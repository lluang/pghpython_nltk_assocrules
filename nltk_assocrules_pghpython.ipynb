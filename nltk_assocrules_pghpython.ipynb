{
 "metadata": {
  "celltoolbar": "Slideshow",
  "name": "",
  "signature": "sha256:d740c834b7849f79d12a17dafeaef926679566ab95d1359d52052f193ec66940"
 },
 "nbformat": 3,
 "nbformat_minor": 0,
 "worksheets": [
  {
   "cells": [
    {
     "cell_type": "markdown",
     "metadata": {
      "slideshow": {
       "slide_type": "slide"
      }
     },
     "source": [
      "Natural Language Processing and Machine Learning\n",
      "======================================\n",
      "\n",
      "Data analysis of Mine Incident Report Narratives\n",
      "---------------------------------\n",
      "PghPython October 2014\n",
      "--------------------------\n",
      "\n",
      "- Louis Luangkesorn\n",
      "- Haoxian He"
     ]
    },
    {
     "cell_type": "code",
     "collapsed": false,
     "input": [
      "%matplotlib inline"
     ],
     "language": "python",
     "metadata": {
      "slideshow": {
       "slide_type": "skip"
      }
     },
     "outputs": [],
     "prompt_number": 1
    },
    {
     "cell_type": "code",
     "collapsed": false,
     "input": [
      "import os\n",
      "import pickle\n",
      "import collections\n",
      "import pandas as pd\n",
      "import numpy as np\n",
      "import nltk\n",
      "import basket\n",
      "import matplotlib.pyplot as plt\n",
      "from prettytable import PrettyTable\n",
      "from IPython.core.display import Image "
     ],
     "language": "python",
     "metadata": {
      "slideshow": {
       "slide_type": "skip"
      }
     },
     "outputs": [],
     "prompt_number": 2
    },
    {
     "cell_type": "markdown",
     "metadata": {
      "slideshow": {
       "slide_type": "subslide"
      }
     },
     "source": [
      "##  Presentation overview\n",
      "\n",
      "-  Mine Accident, Injury, and Illness Reports.\n",
      "-  Introduction to Natural Language Tool Kit\n",
      "-  Parsing accident reports\n",
      "-  Introduction to Association Rules\n",
      "-  Applying association rules to Mine accident reports"
     ]
    },
    {
     "cell_type": "markdown",
     "metadata": {
      "slideshow": {
       "slide_type": "subslide"
      }
     },
     "source": [
      "Accident Injuries Data Source\n",
      "=============================\n",
      "\n",
      "In accordance with the President's Open Government Memorandum, the Mine Safety and Health Administration (MSHA) ha released the *Accident Injuries Data Set* on its website.\n",
      "\n",
      "-  Based on the *Mine Accident, Injury, and Illness Report Form 7000-1*\n",
      "-  Requried to be completed for those incidents which are defined as \"accidents\", \"occupational injuries\", or \"occupational illnesses\".\n",
      "-  The initial report is sent within 10 days of a reportable occurance to MSHA.\n",
      "-  In the case where the employee was injured, the remainder of the report may be held until return-to-duty information is known.\n",
      "-  [MSHA's Open Government data sets (http://www.msha.gov/OpenGovernmentData/OGIMSHA.asp)](http://www.msha.gov/OpenGovernmentData/OGIMSHA.asp)\n"
     ]
    },
    {
     "cell_type": "markdown",
     "metadata": {
      "slideshow": {
       "slide_type": "subslide"
      }
     },
     "source": [
      "Database contents\n",
      "====================\n",
      "\n",
      "-  Identification data\n",
      "    -  Mine ID and name, Company, contractor, report category, \n",
      "-  Location descriptors\n",
      "    -  Location of event, date/time, shift start\n",
      "    -  Type of location, mining method used, equipment used, \n",
      "-  Injured Employee\n",
      "    -  Occupation, experience\n",
      "-  Accident description\n",
      "    -  Category of accident, activity in progress\n",
      "-  Outcomes\n",
      "    -  Injury source, nature of injury, injury body part\n",
      "    -  Lost work time, reassignments\n",
      "-  **Narrative**\n",
      "    -  **Free text report by inspector about the accident.**"
     ]
    },
    {
     "cell_type": "markdown",
     "metadata": {
      "slideshow": {
       "slide_type": "subslide"
      }
     },
     "source": [
      "## Analyze database contents\n",
      "\n",
      "-  Easy stuff.  Anything that is an identified category.\n",
      "    -  Location descriptors, Injury classifiers, Accident classifiers, Outcome classifiers\n",
      "    -  Lots of statisticians can do this.\n",
      "-  Hard stuff.\n",
      "    -  Analyzing the free text narrative.\n",
      "    -  This is the most interesting part of the report."
     ]
    },
    {
     "cell_type": "markdown",
     "metadata": {
      "slideshow": {
       "slide_type": "subslide"
      }
     },
     "source": [
      "##  Hypothesis - The narrative contains information on contributing causes to accidents\n",
      "\n",
      "-  Report classifiers identify the proxmiate cause of an accident.\n",
      "-  Look in report narratives for elements that are commonly identified as present during an accident.\n"
     ]
    },
    {
     "cell_type": "markdown",
     "metadata": {
      "slideshow": {
       "slide_type": "slide"
      }
     },
     "source": [
      "#  Data exploration"
     ]
    },
    {
     "cell_type": "code",
     "collapsed": false,
     "input": [
      "accidents=pd.read_csv('Accidents.txt', sep='|')\n",
      "print(len(accidents))\n",
      "yearlyaccidents = accidents.groupby('CAL_YR')\n",
      "yearbarplot = yearlyaccidents.size().plot(\n",
      "                kind=\"bar\", title=\"Reportable mine accidents by year\")\n",
      "plt.xlabel(\"Year\")"
     ],
     "language": "python",
     "metadata": {
      "slideshow": {
       "slide_type": "subslide"
      }
     },
     "outputs": [
      {
       "output_type": "stream",
       "stream": "stdout",
       "text": [
        "189359\n"
       ]
      },
      {
       "metadata": {},
       "output_type": "pyout",
       "prompt_number": 3,
       "text": [
        "<matplotlib.text.Text at 0x7fec59839950>"
       ]
      },
      {
       "metadata": {},
       "output_type": "display_data",
       "png": "[encoded data removed]",
       "text": [
        "<matplotlib.figure.Figure at 0x7fec5992b5d0>"
       ]
      }
     ],
     "prompt_number": 3
    },
    {
     "cell_type": "markdown",
     "metadata": {
      "slideshow": {
       "slide_type": "slide"
      }
     },
     "source": [
      "#  Text processing\n",
      "\n",
      "-  Use Natural Language Processing to parse narrative.\n",
      "-  Identify entities and actions that are discussed in narrative.\n",
      "-  Look for associations between entities, actions, and categorical data."
     ]
    },
    {
     "cell_type": "markdown",
     "metadata": {
      "slideshow": {
       "slide_type": "subslide"
      }
     },
     "source": [
      "##  NLTK Toolkit\n",
      "\n",
      "-  Developed at the University of Pennsylvania as part of their computational linguistics program.\n",
      "-  Based on a corpus (body of text) learns how to tokenize sentences and identify parts of speech.\n",
      "-  Identify sentence structure and parts of speech.\n",
      "-  http://www.nltk.org/"
     ]
    },
    {
     "cell_type": "markdown",
     "metadata": {
      "slideshow": {
       "slide_type": "subslide"
      }
     },
     "source": [
      "##   Processing narrative text\n",
      "\n",
      "> Employee was working on ram car and slipped when getting off of ram car causing him to twist his right ankle. Diagnosis was a severe ankle sprain."
     ]
    },
    {
     "cell_type": "markdown",
     "metadata": {
      "slideshow": {
       "slide_type": "subslide"
      }
     },
     "source": [
      "##  Natural Language Processing\n",
      "\n",
      "- Identifies part of speech of words in narrative.\n",
      "- For our analysis, focus on nouns and verbs.\n",
      "- Words are tagged using tags in the Penn Treebank (https://www.ling.upenn.edu/courses/Fall_2003/ling001/penn_treebank_pos.html)\n",
      "\n",
      ">[('Employee', 'NNP'),\n",
      " ('was', 'VBD'),\n",
      " ('working', 'VBG'),\n",
      " ('on', 'IN'),\n",
      " ('ram', 'NN'),\n",
      " ('car', 'NN'),\n",
      " ('and', 'CC'),\n",
      " ('slipped', 'VBD'),\n",
      " ('when', 'WRB'),\n",
      " ('getting', 'VBG'),\n",
      " ('off', 'RP'),\n",
      " ('of', 'IN'),\n",
      " ('ram', 'NN'),\n",
      " ('car', 'NN'),\n",
      " ('causing', 'VBG'),\n",
      " ('him', 'PRP'),\n",
      " ('to', 'TO'),\n",
      " ('twist', 'VB'),\n",
      " ('his', 'PRP$'),\n",
      " ('right', 'NN'),\n",
      " ('ankle.', 'NNP'),\n",
      " ('Diagnosis', 'NNP'),\n",
      " ('was', 'VBD'),\n",
      " ('a', 'DT'),\n",
      " ('severe', 'JJ'),\n",
      " ('ankle', 'NN'),\n",
      " ('sprain', 'NN'),\n",
      " ('.', '.')]"
     ]
    },
    {
     "cell_type": "markdown",
     "metadata": {
      "slideshow": {
       "slide_type": "subslide"
      }
     },
     "source": [
      "## Load mine incident text and tagged words"
     ]
    },
    {
     "cell_type": "code",
     "collapsed": false,
     "input": [
      "accidents=pd.read_csv('Accidents.txt',sep='|')\n",
      "accidents.columns=[x.lower() for x in accidents.columns]\n",
      "narrative_tagged=pickle.load(open('all_narrative_tagged.txt','rb'))"
     ],
     "language": "python",
     "metadata": {
      "slideshow": {
       "slide_type": "-"
      }
     },
     "outputs": [],
     "prompt_number": 4
    },
    {
     "cell_type": "markdown",
     "metadata": {
      "slideshow": {
       "slide_type": "subslide"
      }
     },
     "source": [
      "##  Text processing\n",
      "\n",
      "-  Remove common words that do not add meaning \n",
      "    -  *Stopwords*  Including `was`, `of`, `to`, `a`, `him`\n",
      "    -  Also need to identify common words found in the text that do not help identify patterns  \n",
      "    -  e.g. `fall`, `area, unintentional`, `x`"
     ]
    },
    {
     "cell_type": "code",
     "collapsed": false,
     "input": [
      "sec_stopwords=['fall','area','unintentional','x']"
     ],
     "language": "python",
     "metadata": {},
     "outputs": [],
     "prompt_number": 5
    },
    {
     "cell_type": "markdown",
     "metadata": {
      "slideshow": {
       "slide_type": "subslide"
      }
     },
     "source": [
      "## Identify nouns and verbs"
     ]
    },
    {
     "cell_type": "code",
     "collapsed": false,
     "input": [
      "noun=[]\n",
      "for i in range (len(narrative_tagged)):\n",
      "    noun.append([w for (w,tag) in narrative_tagged[i] if tag in ['NN','NNS','NNP','NNPS','JJ','VBN','VBG','VB','VBP','VBZ'] and \n",
      "                 w not in sec_stopwords])\n",
      "narrative_4set=[]\n",
      "for i in accidents.index :\n",
      "    narrative_4set.append(noun[i])\n",
      "    narrative_4set[i].insert(0,accidents['classification'][i])\n",
      "    narrative_4set[i].insert(0,accidents['accident_type'][i]) \n",
      "    # The following code is for identifying 'NO VALUE FOUND' between \n",
      "    # 'ug_location' and 'injury_source'\n",
      "    if accidents['ug_location'][i] != 'NO VALUE FOUND':\n",
      "        narrative_4set[i].insert(0,accidents['ug_location'][i])\n",
      "    if accidents['injury_source'][i] != 'NO VALUE FOUND': \n",
      "        narrative_4set[i].insert(0,accidents['injury_source'][i])\n",
      "# The reason why I redefine noun[] is when creating the  narrative_4set above, noun[] will be modified while inserting new value       \n",
      "#noun=[]\n",
      "#for i in range (len(narrative_tagged)):\n",
      "#    noun.append([w for (w,tag) in narrative_tagged[i] if tag in ['NN','NNS','NNP','NNPS','JJ','VBN','VBG','VB','VBP','VBZ'] and \n",
      "#                 w not in sec_stopwords])\n",
      "for i in range(len(noun)):\n",
      "    if noun[i]==[]:\n",
      "        narrative_4set[i]=[]"
     ],
     "language": "python",
     "metadata": {},
     "outputs": [],
     "prompt_number": 6
    },
    {
     "cell_type": "markdown",
     "metadata": {
      "slideshow": {
       "slide_type": "slide"
      }
     },
     "source": [
      "# Association rules/Frequent pattern mining\n",
      "\n",
      "-  One common purpose of data mining is to discover novel patterns in the data.\n",
      "-  How can we find if elements in the data are related?\n",
      "-  *Association Rules* are one example of an *Unsupervised learning* method.\n",
      "  - You have not provided the procedure with examples of what *correct* answers look like, so the method needs to search for candidate correct answers.\n",
      "-  Implemented in the *apriori* package"
     ]
    },
    {
     "cell_type": "markdown",
     "metadata": {
      "slideshow": {
       "slide_type": "subslide"
      }
     },
     "source": [
      "## Method\n",
      "\n",
      "-  Consider many possible propositions of combinations of terms that appear together (rules).\n",
      "-  Identify candidate *precedents* and *antecedents*\n",
      "-  Evaluate the database to evaluate candidate rules for *support*.\n",
      "-  *support* - portion of cases that particular set of terms appears. \n",
      "-  *confidence* - of the cases where if part of the set of terms appears, the portion of the time where the remaining member of the set appears.\n",
      "-  *lift* - ratio of the support of a term compared to what would be expected if the terms were independent.\n"
     ]
    },
    {
     "cell_type": "markdown",
     "metadata": {},
     "source": [
      "$$supp(X) = P(X)$$\n",
      "$$conf(X \\rightarrow Y) = \\frac{supp(X \\cap Y)}{supp(X)}$$\n",
      "$$lift = \\frac{supp(X \\cap Y)}{supp(X) \\times supp(Y)}$$"
     ]
    },
    {
     "cell_type": "code",
     "collapsed": false,
     "input": [
      "Image('assocrulesequ.png')"
     ],
     "language": "python",
     "metadata": {},
     "outputs": [
      {
       "metadata": {},
       "output_type": "pyout",
       "png": "[encoded data removed]",
       "prompt_number": 7,
       "text": [
        "<IPython.core.display.Image at 0x7fec678f1c10>"
       ]
      }
     ]
    },
    {
     "cell_type": "markdown",
     "metadata": {
      "slideshow": {
       "slide_type": "subslide"
      }
     },
     "source": [
      "##  Tuning Association rules\n",
      "\n",
      "-  Setting the minimum *support*\n",
      "    -  Minimum fraction of time within the entire dataset the terms appear.\n",
      "-  Setting the minimum *confidence*\n",
      "    -  If predictors appear, probability the last element appears.\n",
      "-  Question: What will you do with the results?\n",
      "    -  How much effort does it take to respond to an identified result?"
     ]
    },
    {
     "cell_type": "code",
     "collapsed": false,
     "input": [
      "import apriori as ap\n",
      "L,support_data=ap.apriori(narrative_4set,0.01) \n",
      "rules=ap.generateRules(L,support_data,0.01) "
     ],
     "language": "python",
     "metadata": {},
     "outputs": []
    },
    {
     "cell_type": "markdown",
     "metadata": {
      "slideshow": {
       "slide_type": "subslide"
      }
     },
     "source": [
      "## Add in defined categories\n",
      "\n",
      "-  Add in categories specifically identified in the form.\n",
      "-  Put a limit on how many of these make our rules list because the MSHA statisticians have already figured out common combinations of items on the form."
     ]
    },
    {
     "cell_type": "code",
     "collapsed": false,
     "input": [
      "list_classification=set(accidents['classification'])\n",
      "list_accidenttype=set(accidents['accident_type'])\n",
      "list_injurysource=set(accidents['injury_source'])\n",
      "list_uglocation=set(accidents['ug_location'])\n",
      "#in 'ug_location' & 'injury_source' there are 'No VALUE FOUND' in records, in order to identify these two, the following list is \n",
      "#used to "
     ],
     "language": "python",
     "metadata": {
      "slideshow": {
       "slide_type": "-"
      }
     },
     "outputs": []
    },
    {
     "cell_type": "code",
     "collapsed": false,
     "input": [
      "rules_list=[]\n",
      "for i in range (len(rules)):\n",
      "    temp=(list(rules[i][0])+list(rules[i][1]))\n",
      "    temp.sort()\n",
      "    if temp not in rules_list:\n",
      "        rules_list.append(temp)\n",
      "len(rules_list)\n",
      "index=0\n",
      "rules_list=[]\n",
      "antecedent=[]\n",
      "consequent=[]\n",
      "confident_level=[]\n",
      "x = PrettyTable()\n",
      "for i in range (len(rules)):  #This loop is to remove rules which contain same items\n",
      "    Count=0\n",
      "    temp=(list(rules[i][0])+list(rules[i][1]))\n",
      "    temp.sort()\n",
      "    if temp not in rules_list:\n",
      "        rules_list.append(temp)\n",
      "        if not set(rules[i][0]).intersection(list_classification)== set([]):   #When there's item in the record word list which \n",
      "            Count+=1                                                           #belongs to the list of categorical, count+=1\n",
      "        if not set(rules[i][0]).intersection(list_accidenttype)== set([]):\n",
      "            Count+=1\n",
      "        if not set(rules[i][0]).intersection(list_uglocation)== set([]):\n",
      "            Count+=1\n",
      "        if not set(rules[i][0]).intersection(list_injurysource)== set([]):\n",
      "            Count+=1\n",
      "        if not set(rules[i][1]).intersection(list_classification)== set([]):\n",
      "            Count+=1\n",
      "        if not set(rules[i][1]).intersection(list_accidenttype)== set([]):\n",
      "            Count+=1\n",
      "        if not set(rules[i][1]).intersection(list_uglocation)== set([]):\n",
      "            Count+=1\n",
      "        if not set(rules[i][1]).intersection(list_injurysource)== set([]):\n",
      "            Count+=1\n",
      "    if Count>=1 and Count <2:          #In rules, first on the list is antecedent item, second is the precedent, third is confidence level\n",
      "        if len(list(rules[i][0]))+len(list(rules[i][1]))>=3 and rules[i][2]>0 :\n",
      "            antecedent.append(list(rules[i][0]))\n",
      "            consequent.append(list(rules[i][1]))\n",
      "            confident_level.append(float(rules[i][2]))\n",
      "            index+=1\n",
      "x.add_column('Antecedent',antecedent)\n",
      "x.add_column('Consequent',consequent)\n",
      "x.add_column('ConF',confident_level)\n"
     ],
     "language": "python",
     "metadata": {
      "slideshow": {
       "slide_type": "skip"
      }
     },
     "outputs": []
    },
    {
     "cell_type": "code",
     "collapsed": false,
     "input": [
      "print x"
     ],
     "language": "python",
     "metadata": {
      "slideshow": {
       "slide_type": "subslide"
      }
     },
     "outputs": []
    },
    {
     "cell_type": "markdown",
     "metadata": {
      "slideshow": {
       "slide_type": "subslide"
      }
     },
     "source": [
      "## Applying association rules to mining accident narratives\n",
      "-  Use association rules methods with nouns and verbs found in narratives.\n",
      "-  Add accident location, occupation, type, classification.\n",
      "-  Specify a minimum *support*\n",
      "-  Specify minimum *confidence*\n",
      "-  Outcome - Combinations of terms that lead to another term.\n",
      "-  Question: Does this suggest antecedents or consequences?"
     ]
    },
    {
     "cell_type": "markdown",
     "metadata": {
      "slideshow": {
       "slide_type": "subslide"
      }
     },
     "source": [
      "<table>\n",
      "<tr><th>Antecedent</th>         <th>           Consequent           </th></tr>\n",
      "<tr><td>            ['piece', 'rock']            </td><td>  ['STRUCK BY FALLING OBJECT']  </td></tr>\n",
      "<tr><td>           ['cutting', 'knife']          </td><td>   ['HANDTOOLS (NONPOWERED)']   </td></tr>\n",
      "<tr><td>            ['KNIFE', 'knife']           </td><td>          ['cutting']           </td></tr>\n",
      "<tr><td>     ['FALL OF ROOF OR BACK', 'rock']    </td><td>           ['piece']            </td></tr>\n",
      "<tr><td>    ['entry', 'FALL OF ROOF OR BACK']    </td><td>            ['wide']            </td></tr>\n",
      "<tr><td>             ['left', 'hand']            </td><td>   ['HANDLING OF MATERIALS']    </td></tr>\n",
      "<tr><td>           ['striking', 'rock']          </td><td> ['CAVING ROCK,COAL,ORE,WSTE']  </td></tr>\n",
      "<tr><td>            ['piece', 'metal']           </td><td> ['METAL,NEC(PIPE,WIRE,NAIL)']  </td></tr>\n",
      "<tr><td>     ['FALL OF ROOF OR BACK', 'spad']    </td><td>           ['entry']            </td></tr>\n",
      "<tr><td> ['entry', 'ACC TYPE, WITHOUT INJURIES'] </td><td>            ['wide']            </td></tr>\n",
      "<tr><td>  ['roof', 'ACC TYPE, WITHOUT INJURIES'] </td><td>           ['entry']            </td></tr>\n",
      "<tr><td>            ['struck', 'rock']           </td><td> ['CAVING ROCK,COAL,ORE,WSTE']  </td></tr>\n",
      "<tr><td>            ['finger', 'hand']           </td><td>   ['HANDLING OF MATERIALS']    </td></tr>\n",
      "<tr><td>           ['cutting', 'knife']          </td><td>       ['STRUCK BY, NEC']       </td></tr>\n",
      "<tr><td>            ['piece', 'FACE']            </td><td>            ['rock']            </td></tr>\n",
      "<tr><td>  ['ACC TYPE, WITHOUT INJURIES', 'spad'] </td><td>           ['entry']            </td></tr>\n",
      "</table>"
     ]
    },
    {
     "cell_type": "markdown",
     "metadata": {
      "slideshow": {
       "slide_type": "subslide"
      }
     },
     "source": [
      "##  Use of results\n",
      "\n",
      "-  Diversity of dataset\n",
      "    -  High diversity of data means that the *minimum support* and *minimum confidence* have to be set very low to get a result.\n",
      "-  Use a conditional dataset\n",
      "    -  Reduce dataset by being conditional on a subset of interest."
     ]
    },
    {
     "cell_type": "markdown",
     "metadata": {
      "slideshow": {
       "slide_type": "slide"
      }
     },
     "source": [
      "# Thank you\n",
      "-  Louis Luangkesorn (lugerpitt@gmail.com)\n",
      "-  https://github.com/lluang/pghpython_nltk_assocrules"
     ]
    }
   ],
   "metadata": {}
  }
 ]
}